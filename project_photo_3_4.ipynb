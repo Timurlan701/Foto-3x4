{
 "cells": [
  {
   "cell_type": "code",
   "execution_count": 1,
   "metadata": {},
   "outputs": [],
   "source": [
    "import PIL\n",
    "from PIL import Image, ImageDraw\n",
    "import cv2 as cv"
   ]
  },
  {
   "cell_type": "code",
   "execution_count": 2,
   "metadata": {},
   "outputs": [],
   "source": [
    "# resize picture\n",
    "def picture(title_image):  \n",
    "    \n",
    "    basewidth = 120\n",
    "    if title_image.width > basewidth:\n",
    "        size = basewidth, int(basewidth*(title_image.height/title_image.width))\n",
    "        title_image = title_image.resize(size)\n",
    "    return title_image"
   ]
  },
  {
   "cell_type": "code",
   "execution_count": 3,
   "metadata": {},
   "outputs": [],
   "source": [
    "# create list with 6 picture\n",
    "list_p = []\n",
    "def list_pic(faces):\n",
    "    \n",
    "    for pic in range(6):\n",
    "        list_p.append(faces)\n",
    "    return list_p"
   ]
  },
  {
   "cell_type": "code",
   "execution_count": 4,
   "metadata": {},
   "outputs": [],
   "source": [
    "# create a photo 6 3 x 4\n",
    "def contact_sheet(list_p):\n",
    "    \n",
    "    first_image = list_p[0]\n",
    "    finish_face=PIL.Image.new(first_image.mode, (first_image.width*3,first_image.height*2))\n",
    "    x=0\n",
    "    y=0\n",
    "    for image in list_p:\n",
    "        finish_face.paste(image, (x, y) )\n",
    "        if x+first_image.width == finish_face.width:\n",
    "            x=0\n",
    "            y=y+first_image.height\n",
    "        else:\n",
    "            x=x+first_image.width\n",
    "    return finish_face"
   ]
  },
  {
   "cell_type": "code",
   "execution_count": 5,
   "metadata": {},
   "outputs": [],
   "source": [
    "color_pic = Image.open('img_input.jpg')\n",
    "gray_pic = color_pic.convert('L')\n",
    "faces = picture(color_pic)          # replace gray_pic to get gray photo 6 3 x 3\n",
    "list_p = list_pic(faces)\n",
    "#display(contact_sheet(list_p))\n",
    "\n",
    "foto_print = (contact_sheet(list_p))\n",
    "foto_print.save('color_6_3x4.bmp')"
   ]
  }
 ],
 "metadata": {
  "kernelspec": {
   "display_name": "Python 3",
   "language": "python",
   "name": "python3"
  },
  "language_info": {
   "codemirror_mode": {
    "name": "ipython",
    "version": 3
   },
   "file_extension": ".py",
   "mimetype": "text/x-python",
   "name": "python",
   "nbconvert_exporter": "python",
   "pygments_lexer": "ipython3",
   "version": "3.7.6"
  }
 },
 "nbformat": 4,
 "nbformat_minor": 4
}
